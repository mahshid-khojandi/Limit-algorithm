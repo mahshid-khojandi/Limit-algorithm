{
  "nbformat": 4,
  "nbformat_minor": 0,
  "metadata": {
    "colab": {
      "provenance": [],
      "authorship_tag": "ABX9TyPKsgw3oqmXxG+krSKq5OUg",
      "include_colab_link": true
    },
    "kernelspec": {
      "name": "python3",
      "display_name": "Python 3"
    },
    "language_info": {
      "name": "python"
    }
  },
  "cells": [
    {
      "cell_type": "markdown",
      "metadata": {
        "id": "view-in-github",
        "colab_type": "text"
      },
      "source": [
        "<a href=\"https://colab.research.google.com/github/mahshid-khojandi/Limit-algorithm/blob/main/Limit_algorithm.ipynb\" target=\"_parent\"><img src=\"https://colab.research.google.com/assets/colab-badge.svg\" alt=\"Open In Colab\"/></a>"
      ]
    },
    {
      "cell_type": "code",
      "source": [
        "a = [1, 2, 3, 4, 5]"
      ],
      "metadata": {
        "id": "YlM4i_gMuz5c"
      },
      "execution_count": 1,
      "outputs": []
    },
    {
      "cell_type": "code",
      "source": [
        "def limit(arr, min=None, max=None):\n",
        "  min_check = lambda val : True if min is None else (val >= min)\n",
        "  max_check = lambda val : True if max is None else (val <= max)\n",
        "  return [val for val in arr if min_check(val) and max_check(val)]"
      ],
      "metadata": {
        "id": "l65Um_Beu8Fg"
      },
      "execution_count": 2,
      "outputs": []
    },
    {
      "cell_type": "markdown",
      "source": [
        "# **Explation**\n",
        "\n",
        "---\n",
        "\n",
        "Calculation of minimum and maximum between a limited series of numbers.\n",
        "\n",
        "**output** : min=3 > [3, 4, 5]  max=3 > [1, 2, 3]"
      ],
      "metadata": {
        "id": "s_-KP06Nvi7B"
      }
    }
  ]
}